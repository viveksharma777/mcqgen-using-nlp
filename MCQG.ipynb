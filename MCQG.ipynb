{
 "cells": [
  {
   "cell_type": "code",
   "execution_count": 1,
   "metadata": {},
   "outputs": [],
   "source": [
    "file = open(r\"C:\\Users\\99bis\\Downloads\\ahistoryofdepression.txt\", encoding='utf-8')\n",
    "text = file.read()"
   ]
  },
  {
   "cell_type": "code",
   "execution_count": 2,
   "metadata": {},
   "outputs": [
    {
     "data": {
      "text/plain": [
       "'When is sorrow sickness? So begins Jonathan Sadowsky’s The Empire of Depression, a history riven with professional turf wars around where to draw the line between normal sadness and something more serious — now, across much of the world, called depression. He argues against reductionism and dogma. Instead of getting stuck in old disagreements about whether depression is caused by a chemical imbalance or by social inequality, Sadowsky urges that depression can be psychological, biological and social, just as it can be a real illness even if it is cultural.\\n\\nGiven that the World Health Organization names depression as a major contributor to the global burden of disease, tracing its history is a significant task. And it is an important one, given the mental-health crisis attending the COVID-19 pandemic. It is no mean feat to characterize something that has ever-shifting and contested boundaries dependent on time and place. Sadowsky, a historian of medicine, offers three possible reasons for the current boom in diagnoses: that there really is more depression; that the amount is the same but we’re better at detecting it; or that emotional states not previously seen as illness are now being labelled as such.\\n\\nThis is no lament on over-diagnosis. Rather, Sadowsky offers a review of how psychiatry has helped people. His tale spans the ‘melancholia’ of Renaissance Europe (said to be caused by too much black bile, and treated by purging) and today’s research on imbalances in neurotransmitters, treated by drugs. It takes us through the Christian Middle Ages and the emergence of questions about whether ill people were to be blamed for their suffering; Sigmund Freud’s psychoanalytic ideas about anger turned inwards; and the 1980s cultural sensation of Prozac (fluoxetine), quantification and globalization.\\n\\nIn this positive take, the vast majority of people with depression are being treated voluntarily, and treatment helps them feel better. He makes no claims that people are being duped en masse into chemical cures. But this breezy approach doesn’t reckon with power: a lot goes on between the lines of being forced to take medication and choosing to.\\n\\nDepression has a cultural life, as, others have argued, do panic disorder, bipolar disorder and suicide (see Jackie Orr’s book Panic Diaries (2006); Emily Martin’s Bipolar Expeditions (2007); and Ian Marsh’s 2010 Suicide). A diagnosis can give validity to feelings, help people find others who share similar experiences and provide hope. But it can also stigmatize, embroil people in coercive treatment regimes and overlook context. That is why it is important to ask: what does depression ‘do’, personally and politically? Individual explanations can divert attention from wider societal factors and how they make some lives unliveable.\\n\\nIn other words, the history of depression is also about who decides what is normal and what is not. If life presents many reasons to be depressed — poverty, discrimination, precarious living situations — then should all depression be seen as an illness? This is more than theoretical, as increasing prescriptions of antidepressants in austerity Britain and opioids in rural North America testify. To be fair, this idea is key to Sadowsky’s history. He explains that choices about where to draw the line risk both medicalizing everyday suffering and disqualifying many people’s suffering from being seen as clinical depression.\\n\\nDepression, then, can’t be separated from unequal power relations — between doctor and patient, and between countries and corporations with unequal power to globalize their ways of viewing distress and its treatments. The power to say who’s rational and who isn’t, and to detain people or treat them without consent, is perhaps the starkest reminder of why treating depression is not just like administering insulin for diabetes, and of why stigma looms large despite (or because of) the understandable appeals to biochemistry. This concept is behind anti-psychiatry, the movement that protests against harmful practices, especially those founded on power differentials. Yet antipsychiatry makes only brief appearances in the book, like a pantomime villain.\\n\\nSadowsky points out that era after era grapples with false choices — between a political understanding of depression and a medical one, or between physical and psychological understandings. He is right to call for a move beyond these crude binaries. In my view, to do so, we must face the central roles of racism, sexism and ableism in delineating diagnostic boundaries over the years — not dismiss them as unfortunate. For example, psychiatry has a history of labelling some people as too uncivilized to be mentally ill, yet also diagnosing anticolonialism as mental illness.\\n\\nIn fact, many forms of resistance have been deemed symptoms of mental illness, from enslaved Africans fleeing brutality in the nineteenth-century United States to the Black Power movement of the 1960s. It is alarming, then, that apart from using “empire” as an analogy for the global dominance of Western psychiatry in interpreting distress, Sadowsky devotes little attention here to power and politics — especially given his previous work on colonialism (in the 1999 book Imperial Bedlam).\\n\\nThe book ends with the wise injunction: “listen to patients”. Yet, apart from illness memoirs, the voices (and research) of people who experience depression, those who become patients, those who refuse to become patients, and service users or psychiatric survivors are almost completely absent from the book. These people (and the collectives they have formed) contribute to production of knowledge about depression by leading research and global movements fighting for their rights. A history of depression without these voices will always be one-sided.'"
      ]
     },
     "execution_count": 2,
     "metadata": {},
     "output_type": "execute_result"
    }
   ],
   "source": [
    "text"
   ]
  },
  {
   "cell_type": "code",
   "execution_count": 3,
   "metadata": {},
   "outputs": [],
   "source": [
    "# Function to load Lottie animations\n",
    "def load_lottie_url(url: str):\n",
    "    r = requests.get(url)\n",
    "    if r.status_code != 200:\n",
    "        return None\n",
    "    return r.json()\n"
   ]
  },
  {
   "cell_type": "code",
   "execution_count": 4,
   "metadata": {},
   "outputs": [
    {
     "name": "stderr",
     "output_type": "stream",
     "text": [
      "[nltk_data] Downloading package stopwords to\n",
      "[nltk_data]     C:\\Users\\99bis\\AppData\\Roaming\\nltk_data...\n",
      "[nltk_data]   Package stopwords is already up-to-date!\n",
      "[nltk_data] Downloading package punkt to\n",
      "[nltk_data]     C:\\Users\\99bis\\AppData\\Roaming\\nltk_data...\n",
      "[nltk_data]   Package punkt is already up-to-date!\n",
      "[nltk_data] Downloading collection 'popular'\n",
      "[nltk_data]    | \n",
      "[nltk_data]    | Downloading package cmudict to\n",
      "[nltk_data]    |     C:\\Users\\99bis\\AppData\\Roaming\\nltk_data...\n",
      "[nltk_data]    |   Package cmudict is already up-to-date!\n",
      "[nltk_data]    | Downloading package gazetteers to\n",
      "[nltk_data]    |     C:\\Users\\99bis\\AppData\\Roaming\\nltk_data...\n",
      "[nltk_data]    |   Package gazetteers is already up-to-date!\n",
      "[nltk_data]    | Downloading package genesis to\n",
      "[nltk_data]    |     C:\\Users\\99bis\\AppData\\Roaming\\nltk_data...\n",
      "[nltk_data]    |   Package genesis is already up-to-date!\n",
      "[nltk_data]    | Downloading package gutenberg to\n",
      "[nltk_data]    |     C:\\Users\\99bis\\AppData\\Roaming\\nltk_data...\n",
      "[nltk_data]    |   Package gutenberg is already up-to-date!\n",
      "[nltk_data]    | Downloading package inaugural to\n",
      "[nltk_data]    |     C:\\Users\\99bis\\AppData\\Roaming\\nltk_data...\n",
      "[nltk_data]    |   Package inaugural is already up-to-date!\n",
      "[nltk_data]    | Downloading package movie_reviews to\n",
      "[nltk_data]    |     C:\\Users\\99bis\\AppData\\Roaming\\nltk_data...\n",
      "[nltk_data]    |   Package movie_reviews is already up-to-date!\n",
      "[nltk_data]    | Downloading package names to\n",
      "[nltk_data]    |     C:\\Users\\99bis\\AppData\\Roaming\\nltk_data...\n",
      "[nltk_data]    |   Package names is already up-to-date!\n",
      "[nltk_data]    | Downloading package shakespeare to\n",
      "[nltk_data]    |     C:\\Users\\99bis\\AppData\\Roaming\\nltk_data...\n",
      "[nltk_data]    |   Package shakespeare is already up-to-date!\n",
      "[nltk_data]    | Downloading package stopwords to\n",
      "[nltk_data]    |     C:\\Users\\99bis\\AppData\\Roaming\\nltk_data...\n",
      "[nltk_data]    |   Package stopwords is already up-to-date!\n",
      "[nltk_data]    | Downloading package treebank to\n",
      "[nltk_data]    |     C:\\Users\\99bis\\AppData\\Roaming\\nltk_data...\n",
      "[nltk_data]    |   Package treebank is already up-to-date!\n",
      "[nltk_data]    | Downloading package twitter_samples to\n",
      "[nltk_data]    |     C:\\Users\\99bis\\AppData\\Roaming\\nltk_data...\n",
      "[nltk_data]    |   Package twitter_samples is already up-to-date!\n",
      "[nltk_data]    | Downloading package omw to\n",
      "[nltk_data]    |     C:\\Users\\99bis\\AppData\\Roaming\\nltk_data...\n",
      "[nltk_data]    |   Package omw is already up-to-date!\n",
      "[nltk_data]    | Downloading package omw-1.4 to\n",
      "[nltk_data]    |     C:\\Users\\99bis\\AppData\\Roaming\\nltk_data...\n",
      "[nltk_data]    |   Package omw-1.4 is already up-to-date!\n",
      "[nltk_data]    | Downloading package wordnet to\n",
      "[nltk_data]    |     C:\\Users\\99bis\\AppData\\Roaming\\nltk_data...\n",
      "[nltk_data]    |   Package wordnet is already up-to-date!\n",
      "[nltk_data]    | Downloading package wordnet2021 to\n",
      "[nltk_data]    |     C:\\Users\\99bis\\AppData\\Roaming\\nltk_data...\n",
      "[nltk_data]    |   Package wordnet2021 is already up-to-date!\n",
      "[nltk_data]    | Downloading package wordnet31 to\n",
      "[nltk_data]    |     C:\\Users\\99bis\\AppData\\Roaming\\nltk_data...\n",
      "[nltk_data]    |   Package wordnet31 is already up-to-date!\n",
      "[nltk_data]    | Downloading package wordnet_ic to\n",
      "[nltk_data]    |     C:\\Users\\99bis\\AppData\\Roaming\\nltk_data...\n",
      "[nltk_data]    |   Package wordnet_ic is already up-to-date!\n",
      "[nltk_data]    | Downloading package words to\n",
      "[nltk_data]    |     C:\\Users\\99bis\\AppData\\Roaming\\nltk_data...\n",
      "[nltk_data]    |   Package words is already up-to-date!\n",
      "[nltk_data]    | Downloading package maxent_ne_chunker to\n",
      "[nltk_data]    |     C:\\Users\\99bis\\AppData\\Roaming\\nltk_data...\n",
      "[nltk_data]    |   Package maxent_ne_chunker is already up-to-date!\n",
      "[nltk_data]    | Downloading package punkt to\n",
      "[nltk_data]    |     C:\\Users\\99bis\\AppData\\Roaming\\nltk_data...\n",
      "[nltk_data]    |   Package punkt is already up-to-date!\n",
      "[nltk_data]    | Downloading package snowball_data to\n",
      "[nltk_data]    |     C:\\Users\\99bis\\AppData\\Roaming\\nltk_data...\n",
      "[nltk_data]    |   Package snowball_data is already up-to-date!\n",
      "[nltk_data]    | Downloading package averaged_perceptron_tagger to\n",
      "[nltk_data]    |     C:\\Users\\99bis\\AppData\\Roaming\\nltk_data...\n",
      "[nltk_data]    |   Package averaged_perceptron_tagger is already up-\n",
      "[nltk_data]    |       to-date!\n",
      "[nltk_data]    | \n",
      "[nltk_data]  Done downloading collection popular\n"
     ]
    },
    {
     "data": {
      "text/plain": [
       "True"
      ]
     },
     "execution_count": 4,
     "metadata": {},
     "output_type": "execute_result"
    }
   ],
   "source": [
    "import nltk\n",
    "nltk.download('stopwords')\n",
    "nltk.download('punkt')\n",
    "nltk.download('popular')"
   ]
  },
  {
   "cell_type": "code",
   "execution_count": 5,
   "metadata": {},
   "outputs": [
    {
     "name": "stderr",
     "output_type": "stream",
     "text": [
      "[nltk_data] Downloading package stopwords to\n",
      "[nltk_data]     C:\\Users\\99bis\\AppData\\Roaming\\nltk_data...\n",
      "[nltk_data]   Package stopwords is already up-to-date!\n",
      "[nltk_data] Downloading package punkt to\n",
      "[nltk_data]     C:\\Users\\99bis\\AppData\\Roaming\\nltk_data...\n",
      "[nltk_data]   Package punkt is already up-to-date!\n"
     ]
    },
    {
     "name": "stdout",
     "output_type": "stream",
     "text": [
      "['jonathan sadowsky', 'depression', 'empire', 'emily martin', 'bipolar expeditions', 'sadowsky', 'panic diaries', 'jackie orr', 'united states', 'black power', 'ian marsh', 'north america', 'britain', 'africans', 'sigmund freud', 'prozac', 'middle ages', 'renaissance europe', 'world health organization', 'imperial bedlam']\n"
     ]
    }
   ],
   "source": [
    "#Step 2- Extract the important words(keywords) from the text article that can be used to create MCQ using PKE (Python Keyword Extraction)\n",
    "\n",
    "import pke\n",
    "from nltk.corpus import stopwords #Stopwords are the words that we need to avoid while considering keyword extraction\n",
    "import string\n",
    "\n",
    "# Downloading NLTK data\n",
    "nltk.download('stopwords')\n",
    "nltk.download('punkt')\n",
    "\n",
    "# Define the function to extract important words\n",
    "def getImportantWords(art): \n",
    "    extractor = pke.unsupervised.MultipartiteRank() # Using the Multipartite Unsupervised Extractor as our extractor\n",
    "    extractor.load_document(input=art, language='en')\n",
    "    pos = {'PROPN'} # We are only considering proper nouns as valid candidates for our keywords\n",
    "    stops = list(string.punctuation) # Stoplist contains the words to be avoided\n",
    "    stops += ['-lrb-', '-rrb-', '-lcb-', '-rcb-', '-lsb-', '-rsb-'] # These stand for the brackets as in lrb=left round bracket=\"(\" and so on\n",
    "    stops += stopwords.words('english')\n",
    "    extractor.candidate_selection(pos=pos) # Sets the candidate selection criteria, as in, which should be considered and which should be avoided\n",
    "    extractor.candidate_weighting() # Sets the preference criteria for the candidates\n",
    "    keyphrases = extractor.get_n_best(n=25) # Gets the 25 best candidates according to the criteria set\n",
    "    result = [keyphrase[0] for keyphrase in keyphrases]\n",
    "    return result\n",
    "impWords=getImportantWords(text) #Get the important words (keywords) from the text article using the above function\n",
    "print(impWords)"
   ]
  },
  {
   "cell_type": "code",
   "execution_count": 6,
   "metadata": {},
   "outputs": [
    {
     "name": "stdout",
     "output_type": "stream",
     "text": [
      "['When is sorrow sickness?', 'So begins Jonathan Sadowsky’s The Empire of Depression, a history riven with professional turf wars around where to draw the line between normal sadness and something more serious — now, across much of the world, called depression.', 'He argues against reductionism and dogma.', 'Instead of getting stuck in old disagreements about whether depression is caused by a chemical imbalance or by social inequality, Sadowsky urges that depression can be psychological, biological and social, just as it can be a real illness even if it is cultural.', 'Given that the World Health Organization names depression as a major contributor to the global burden of disease, tracing its history is a significant task.', 'And it is an important one, given the mental-health crisis attending the COVID-19 pandemic.', 'It is no mean feat to characterize something that has ever-shifting and contested boundaries dependent on time and place.', 'Sadowsky, a historian of medicine, offers three possible reasons for the current boom in diagnoses: that there really is more depression; that the amount is the same but we’re better at detecting it; or that emotional states not previously seen as illness are now being labelled as such.', 'This is no lament on over-diagnosis.', 'Rather, Sadowsky offers a review of how psychiatry has helped people.', 'His tale spans the ‘melancholia’ of Renaissance Europe (said to be caused by too much black bile, and treated by purging) and today’s research on imbalances in neurotransmitters, treated by drugs.', 'It takes us through the Christian Middle Ages and the emergence of questions about whether ill people were to be blamed for their suffering; Sigmund Freud’s psychoanalytic ideas about anger turned inwards; and the 1980s cultural sensation of Prozac (fluoxetine), quantification and globalization.', 'In this positive take, the vast majority of people with depression are being treated voluntarily, and treatment helps them feel better.', 'He makes no claims that people are being duped en masse into chemical cures.', 'But this breezy approach doesn’t reckon with power: a lot goes on between the lines of being forced to take medication and choosing to.', 'Depression has a cultural life, as, others have argued, do panic disorder, bipolar disorder and suicide (see Jackie Orr’s book Panic Diaries (2006); Emily Martin’s Bipolar Expeditions (2007); and Ian Marsh’s 2010 Suicide).', 'A diagnosis can give validity to feelings, help people find others who share similar experiences and provide hope.', 'But it can also stigmatize, embroil people in coercive treatment regimes and overlook context.', 'That is why it is important to ask: what does depression ‘do’, personally and politically?', 'Individual explanations can divert attention from wider societal factors and how they make some lives unliveable.', 'In other words, the history of depression is also about who decides what is normal and what is not.', 'If life presents many reasons to be depressed — poverty, discrimination, precarious living situations — then should all depression be seen as an illness?', 'This is more than theoretical, as increasing prescriptions of antidepressants in austerity Britain and opioids in rural North America testify.', 'To be fair, this idea is key to Sadowsky’s history.', 'He explains that choices about where to draw the line risk both medicalizing everyday suffering and disqualifying many people’s suffering from being seen as clinical depression.', 'Depression, then, can’t be separated from unequal power relations — between doctor and patient, and between countries and corporations with unequal power to globalize their ways of viewing distress and its treatments.', 'The power to say who’s rational and who isn’t, and to detain people or treat them without consent, is perhaps the starkest reminder of why treating depression is not just like administering insulin for diabetes, and of why stigma looms large despite (or because of) the understandable appeals to biochemistry.', 'This concept is behind anti-psychiatry, the movement that protests against harmful practices, especially those founded on power differentials.', 'Yet antipsychiatry makes only brief appearances in the book, like a pantomime villain.', 'Sadowsky points out that era after era grapples with false choices — between a political understanding of depression and a medical one, or between physical and psychological understandings.', 'He is right to call for a move beyond these crude binaries.', 'In my view, to do so, we must face the central roles of racism, sexism and ableism in delineating diagnostic boundaries over the years — not dismiss them as unfortunate.', 'For example, psychiatry has a history of labelling some people as too uncivilized to be mentally ill, yet also diagnosing anticolonialism as mental illness.', 'In fact, many forms of resistance have been deemed symptoms of mental illness, from enslaved Africans fleeing brutality in the nineteenth-century United States to the Black Power movement of the 1960s.', 'It is alarming, then, that apart from using “empire” as an analogy for the global dominance of Western psychiatry in interpreting distress, Sadowsky devotes little attention here to power and politics — especially given his previous work on colonialism (in the 1999 book Imperial Bedlam).', 'The book ends with the wise injunction: “listen to patients”.', 'Yet, apart from illness memoirs, the voices (and research) of people who experience depression, those who become patients, those who refuse to become patients, and service users or psychiatric survivors are almost completely absent from the book.', 'These people (and the collectives they have formed) contribute to production of knowledge about depression by leading research and global movements fighting for their rights.', 'A history of depression without these voices will always be one-sided.']\n"
     ]
    }
   ],
   "source": [
    "#Step 3- Split the whole text article into an array/list of individual sentences. This will help us fetch the sentences related to the keywords easily\n",
    "\n",
    "from nltk.tokenize import sent_tokenize\n",
    "def splitTextToSents(art):\n",
    "    s=[sent_tokenize(art)]\n",
    "    s=[y for x in s for y in x]\n",
    "    s=[sent.strip() for sent in s if len(sent)>15] #Removes all the sentences that have length less than 15 so that we can ensure that our questions have enough length for context\n",
    "    return s\n",
    "sents=splitTextToSents(text) #Achieve a well splitted set of sentences from the text article\n",
    "print(sents)"
   ]
  },
  {
   "cell_type": "code",
   "execution_count": 7,
   "metadata": {},
   "outputs": [
    {
     "name": "stdout",
     "output_type": "stream",
     "text": [
      "{'jonathan sadowsky': ['So begins Jonathan Sadowsky’s The Empire of Depression, a history riven with professional turf wars around where to draw the line between normal sadness and something more serious — now, across much of the world, called depression.'], 'depression': ['The power to say who’s rational and who isn’t, and to detain people or treat them without consent, is perhaps the starkest reminder of why treating depression is not just like administering insulin for diabetes, and of why stigma looms large despite (or because of) the understandable appeals to biochemistry.', 'Sadowsky, a historian of medicine, offers three possible reasons for the current boom in diagnoses: that there really is more depression; that the amount is the same but we’re better at detecting it; or that emotional states not previously seen as illness are now being labelled as such.', 'Instead of getting stuck in old disagreements about whether depression is caused by a chemical imbalance or by social inequality, Sadowsky urges that depression can be psychological, biological and social, just as it can be a real illness even if it is cultural.', 'Instead of getting stuck in old disagreements about whether depression is caused by a chemical imbalance or by social inequality, Sadowsky urges that depression can be psychological, biological and social, just as it can be a real illness even if it is cultural.', 'Yet, apart from illness memoirs, the voices (and research) of people who experience depression, those who become patients, those who refuse to become patients, and service users or psychiatric survivors are almost completely absent from the book.', 'So begins Jonathan Sadowsky’s The Empire of Depression, a history riven with professional turf wars around where to draw the line between normal sadness and something more serious — now, across much of the world, called depression.', 'So begins Jonathan Sadowsky’s The Empire of Depression, a history riven with professional turf wars around where to draw the line between normal sadness and something more serious — now, across much of the world, called depression.', 'Depression has a cultural life, as, others have argued, do panic disorder, bipolar disorder and suicide (see Jackie Orr’s book Panic Diaries (2006); Emily Martin’s Bipolar Expeditions (2007); and Ian Marsh’s 2010 Suicide).', 'Depression, then, can’t be separated from unequal power relations — between doctor and patient, and between countries and corporations with unequal power to globalize their ways of viewing distress and its treatments.', 'Sadowsky points out that era after era grapples with false choices — between a political understanding of depression and a medical one, or between physical and psychological understandings.', 'He explains that choices about where to draw the line risk both medicalizing everyday suffering and disqualifying many people’s suffering from being seen as clinical depression.', 'These people (and the collectives they have formed) contribute to production of knowledge about depression by leading research and global movements fighting for their rights.', 'Given that the World Health Organization names depression as a major contributor to the global burden of disease, tracing its history is a significant task.', 'If life presents many reasons to be depressed — poverty, discrimination, precarious living situations — then should all depression be seen as an illness?', 'In this positive take, the vast majority of people with depression are being treated voluntarily, and treatment helps them feel better.', 'In other words, the history of depression is also about who decides what is normal and what is not.', 'That is why it is important to ask: what does depression ‘do’, personally and politically?', 'A history of depression without these voices will always be one-sided.'], 'empire': ['It is alarming, then, that apart from using “empire” as an analogy for the global dominance of Western psychiatry in interpreting distress, Sadowsky devotes little attention here to power and politics — especially given his previous work on colonialism (in the 1999 book Imperial Bedlam).', 'So begins Jonathan Sadowsky’s The Empire of Depression, a history riven with professional turf wars around where to draw the line between normal sadness and something more serious — now, across much of the world, called depression.'], 'emily martin': ['Depression has a cultural life, as, others have argued, do panic disorder, bipolar disorder and suicide (see Jackie Orr’s book Panic Diaries (2006); Emily Martin’s Bipolar Expeditions (2007); and Ian Marsh’s 2010 Suicide).'], 'bipolar expeditions': ['Depression has a cultural life, as, others have argued, do panic disorder, bipolar disorder and suicide (see Jackie Orr’s book Panic Diaries (2006); Emily Martin’s Bipolar Expeditions (2007); and Ian Marsh’s 2010 Suicide).'], 'sadowsky': ['It is alarming, then, that apart from using “empire” as an analogy for the global dominance of Western psychiatry in interpreting distress, Sadowsky devotes little attention here to power and politics — especially given his previous work on colonialism (in the 1999 book Imperial Bedlam).', 'Sadowsky, a historian of medicine, offers three possible reasons for the current boom in diagnoses: that there really is more depression; that the amount is the same but we’re better at detecting it; or that emotional states not previously seen as illness are now being labelled as such.', 'Instead of getting stuck in old disagreements about whether depression is caused by a chemical imbalance or by social inequality, Sadowsky urges that depression can be psychological, biological and social, just as it can be a real illness even if it is cultural.', 'Sadowsky points out that era after era grapples with false choices — between a political understanding of depression and a medical one, or between physical and psychological understandings.', 'Rather, Sadowsky offers a review of how psychiatry has helped people.', 'To be fair, this idea is key to Sadowsky’s history.'], 'panic diaries': ['Depression has a cultural life, as, others have argued, do panic disorder, bipolar disorder and suicide (see Jackie Orr’s book Panic Diaries (2006); Emily Martin’s Bipolar Expeditions (2007); and Ian Marsh’s 2010 Suicide).'], 'jackie orr': ['Depression has a cultural life, as, others have argued, do panic disorder, bipolar disorder and suicide (see Jackie Orr’s book Panic Diaries (2006); Emily Martin’s Bipolar Expeditions (2007); and Ian Marsh’s 2010 Suicide).'], 'united states': ['In fact, many forms of resistance have been deemed symptoms of mental illness, from enslaved Africans fleeing brutality in the nineteenth-century United States to the Black Power movement of the 1960s.'], 'black power': ['In fact, many forms of resistance have been deemed symptoms of mental illness, from enslaved Africans fleeing brutality in the nineteenth-century United States to the Black Power movement of the 1960s.'], 'ian marsh': ['Depression has a cultural life, as, others have argued, do panic disorder, bipolar disorder and suicide (see Jackie Orr’s book Panic Diaries (2006); Emily Martin’s Bipolar Expeditions (2007); and Ian Marsh’s 2010 Suicide).'], 'north america': ['This is more than theoretical, as increasing prescriptions of antidepressants in austerity Britain and opioids in rural North America testify.'], 'britain': ['This is more than theoretical, as increasing prescriptions of antidepressants in austerity Britain and opioids in rural North America testify.'], 'africans': ['In fact, many forms of resistance have been deemed symptoms of mental illness, from enslaved Africans fleeing brutality in the nineteenth-century United States to the Black Power movement of the 1960s.'], 'sigmund freud': ['It takes us through the Christian Middle Ages and the emergence of questions about whether ill people were to be blamed for their suffering; Sigmund Freud’s psychoanalytic ideas about anger turned inwards; and the 1980s cultural sensation of Prozac (fluoxetine), quantification and globalization.'], 'prozac': ['It takes us through the Christian Middle Ages and the emergence of questions about whether ill people were to be blamed for their suffering; Sigmund Freud’s psychoanalytic ideas about anger turned inwards; and the 1980s cultural sensation of Prozac (fluoxetine), quantification and globalization.'], 'middle ages': ['It takes us through the Christian Middle Ages and the emergence of questions about whether ill people were to be blamed for their suffering; Sigmund Freud’s psychoanalytic ideas about anger turned inwards; and the 1980s cultural sensation of Prozac (fluoxetine), quantification and globalization.'], 'renaissance europe': ['His tale spans the ‘melancholia’ of Renaissance Europe (said to be caused by too much black bile, and treated by purging) and today’s research on imbalances in neurotransmitters, treated by drugs.'], 'world health organization': ['Given that the World Health Organization names depression as a major contributor to the global burden of disease, tracing its history is a significant task.'], 'imperial bedlam': ['It is alarming, then, that apart from using “empire” as an analogy for the global dominance of Western psychiatry in interpreting distress, Sadowsky devotes little attention here to power and politics — especially given his previous work on colonialism (in the 1999 book Imperial Bedlam).']}\n"
     ]
    }
   ],
   "source": [
    "#Step 4- Map the sentences which contain the keywords to the related keywords so that we can easily lookup the sentences related to the keywords\n",
    "\n",
    "from flashtext import KeywordProcessor\n",
    "def mapSents(impWords,sents):\n",
    "    processor=KeywordProcessor() #Using keyword processor as our processor for this task\n",
    "    keySents={}\n",
    "    for word in impWords:\n",
    "        keySents[word]=[]\n",
    "        processor.add_keyword(word) #Adds key word to the processor\n",
    "    for sent in sents:\n",
    "        found=processor.extract_keywords(sent) #Extract the keywords in the sentence\n",
    "        for each in found:\n",
    "            keySents[each].append(sent) #For each keyword found, map the sentence to the keyword\n",
    "    for key in keySents.keys():\n",
    "        temp=keySents[key]\n",
    "        temp=sorted(temp,key=len,reverse=True) #Sort the sentences according to their decreasing length in order to ensure the quality of question for the MCQ \n",
    "        keySents[key]=temp\n",
    "    return keySents\n",
    "mappedSents=mapSents(impWords,sents) #Achieve the sentences that contain the keywords and map those sentences to the keywords using this function\n",
    "print(mappedSents)"
   ]
  },
  {
   "cell_type": "code",
   "execution_count": 8,
   "metadata": {},
   "outputs": [],
   "source": [
    "# pip install pywsd"
   ]
  },
  {
   "cell_type": "code",
   "execution_count": 9,
   "metadata": {},
   "outputs": [
    {
     "name": "stderr",
     "output_type": "stream",
     "text": [
      "Warming up PyWSD (takes ~10 secs)... "
     ]
    },
    {
     "name": "stdout",
     "output_type": "stream",
     "text": [
      "fin\n"
     ]
    },
    {
     "name": "stderr",
     "output_type": "stream",
     "text": [
      "took 6.59632420539856 secs.\n"
     ]
    }
   ],
   "source": [
    "#Step 5- Get the sense of the word. In order to attain a quality set of distractors we need to get the right sense of the keyword. This is explained in detail in the seperate alogrithm documentation\n",
    "\n",
    "from pywsd.similarity import max_similarity\n",
    "from pywsd.lesk import adapted_lesk\n",
    "from pywsd.lesk import simple_lesk\n",
    "from pywsd.lesk import cosine_lesk\n",
    "from nltk.corpus import wordnet as wn\n",
    "def getWordSense(sent,word):\n",
    "    word=word.lower() \n",
    "    if len(word.split())>0: #Splits the word with underscores(_) instead of spaces if there are multiple words\n",
    "        word=word.replace(\" \",\"_\")\n",
    "    synsets=wn.synsets(word,'n') #Sysnets from Google are invoked\n",
    "    if synsets:\n",
    "        wup=max_similarity(sent,word,'wup',pos='n')\n",
    "        adapted_lesk_output = adapted_lesk(sent, word, pos='n')\n",
    "        lowest_index=min(synsets.index(wup),synsets.index(adapted_lesk_output))\n",
    "        return synsets[lowest_index]\n",
    "    else:\n",
    "        return None\n",
    "print(\"fin\")"
   ]
  },
  {
   "cell_type": "code",
   "execution_count": 10,
   "metadata": {},
   "outputs": [
    {
     "name": "stdout",
     "output_type": "stream",
     "text": [
      "fin\n"
     ]
    }
   ],
   "source": [
    "#Step 6- Get distractor from WordNet. These distractors work on the basis of hypernym and hyponym explained in detail in the documentation.\n",
    "\n",
    "def getDistractors(syn,word):\n",
    "    dists=[]\n",
    "    word=word.lower()\n",
    "    actword=word\n",
    "    if len(word.split())>0: #Splits the word with underscores(_) instead of spaces if there are multiple words\n",
    "        word.replace(\" \",\"_\")\n",
    "    hypernym = syn.hypernyms() #Gets the hypernyms of the word\n",
    "    if len(hypernym)==0: #If there are no hypernyms for the current word, we simple return the empty list of distractors\n",
    "        return dists\n",
    "    for each in hypernym[0].hyponyms(): #Other wise we find the relevant hyponyms for the hypernyms\n",
    "        name=each.lemmas()[0].name()\n",
    "        if(name==actword):\n",
    "            continue\n",
    "        name=name.replace(\"_\",\" \")\n",
    "        name=\" \".join(w.capitalize() for w in name.split())\n",
    "        if name is not None and name not in dists: #If the word is not already present in the list and is different from he actial word\n",
    "            dists.append(name)\n",
    "    return dists\n",
    "print(\"fin\")"
   ]
  },
  {
   "cell_type": "code",
   "execution_count": 11,
   "metadata": {},
   "outputs": [],
   "source": [
    "#Step 7- The primary goal of this step is to take our MCQ quality one step further. The WordNet might some times fail to produce a hypernym for some words.\n",
    "#In that case the ConcepNet comes into play as they help achieve our distractors when there are no hypernyms present for it in the WordNet. More about this is discussed\n",
    "#in the algorithm documentation.\n",
    "\n",
    "import requests\n",
    "import json\n",
    "def getDistractors2(word):\n",
    "    word=word.lower()\n",
    "    actword=word\n",
    "    if len(word.split())>0: #Splits the word with underscores(_) instead of spaces if there are multiple words\n",
    "        word=word.replace(\" \",\"_\")\n",
    "    dists=[]\n",
    "    url= \"http://api.conceptnet.io/query?node=/c/en/%s/n&rel=/r/PartOf&start=/c/en/%s&limit=5\"%(word,word) #To get ditractors from ConceptNet's API\n",
    "    obj=requests.get(url).json()\n",
    "    for edge in obj['edges']:\n",
    "        link=edge['end']['term']\n",
    "        url2=\"http://api.conceptnet.io/query?node=%s&rel=/r/PartOf&end=%s&limit=10\"%(link,link)\n",
    "        obj2=requests.get(url2).json()\n",
    "        for edge in obj2['edges']:\n",
    "            word2=edge['start']['label']\n",
    "            if word2 not in dists and actword.lower() not in word2.lower(): #If the word is not already present in the list and is different from he actial word\n",
    "                dists.append(word2)\n",
    "    return dists\n"
   ]
  },
  {
   "cell_type": "code",
   "execution_count": 12,
   "metadata": {},
   "outputs": [],
   "source": [
    "# Step 8 (continued): Find and map the distractors to the keywords\n",
    "mappedDists = {}\n",
    "correctAnswers = {}  # Dictionary to store correct answers\n",
    "\n",
    "for each in mappedSents:\n",
    "    wordsense = getWordSense(mappedSents[each][0], each)\n",
    "    if wordsense:\n",
    "        dists = getDistractors(wordsense, each)\n",
    "        if len(dists) == 0:\n",
    "            dists = getDistractors2(each)\n",
    "        if len(dists) != 0:\n",
    "            mappedDists[each] = dists\n",
    "            correctAnswers[each] = each.capitalize()  # Store correct answer\n",
    "    else:\n",
    "        dists = getDistractors2(each)\n",
    "        if len(dists) > 0:\n",
    "            mappedDists[each] = dists\n",
    "            correctAnswers[each] = each.capitalize()"
   ]
  },
  {
   "cell_type": "code",
   "execution_count": 13,
   "metadata": {},
   "outputs": [],
   "source": [
    "import re "
   ]
  },
  {
   "cell_type": "code",
   "execution_count": 14,
   "metadata": {},
   "outputs": [
    {
     "name": "stdout",
     "output_type": "stream",
     "text": [
      "**************************************        Multiple Choice Questions        *******************************\n",
      "\n",
      "Question 1->  The power to say who’s rational and who isn’t, and to detain people or treat them without consent, is perhaps the starkest reminder of why treating ________ is not just like administering insulin for diabetes, and of why stigma looms large despite (or because of) the understandable appeals to biochemistry.\n",
      "\t a )  Aquifer\n",
      "\t b )  Beach\n",
      "\t c )  Cave\n",
      "\t d )  Depression\n",
      "Correct Answer:  Depression\n",
      "\n",
      "Question 2->  It is alarming, then, that apart from using “________” as an analogy for the global dominance of Western psychiatry in interpreting distress, Sadowsky devotes little attention here to power and politics — especially given his previous work on colonialism (in the 1999 book Imperial Bedlam).\n",
      "\t a )  Archduchy\n",
      "\t b )  Duchy\n",
      "\t c )  Barony\n",
      "\t d )  Empire\n",
      "Correct Answer:  Empire\n",
      "\n",
      "Question 3->  In fact, many forms of resistance have been deemed symptoms of mental illness, from enslaved Africans fleeing brutality in the nineteenth-century ________ to the Black Power movement of the 1960s.\n",
      "\t a )  United states\n",
      "\t b )  United States Government\n",
      "Correct Answer:  United states\n",
      "\n",
      "Question 4->  This is more than theoretical, as increasing prescriptions of antidepressants in austerity Britain and opioids in rural ________ testify.\n",
      "\t a )  South America\n",
      "\t b )  Eurasia\n",
      "\t c )  North america\n",
      "\t d )  Laurasia\n",
      "Correct Answer:  North america\n",
      "\n",
      "Question 5->  In fact, many forms of resistance have been deemed symptoms of mental illness, from enslaved ________ fleeing brutality in the nineteenth-century United States to the Black Power movement of the 1960s.\n",
      "\t a )  Abator\n",
      "\t b )  Abomination\n",
      "\t c )  Africans\n",
      "\t d )  Abjurer\n",
      "Correct Answer:  Africans\n",
      "\n",
      "Question 6->  It takes us through the Christian Middle Ages and the emergence of questions about whether ill people were to be blamed for their suffering; Sigmund Freud’s psychoanalytic ideas about anger turned inwards; and the 1980s cultural sensation of ________ (fluoxetine), quantification and globalization.\n",
      "\t a )  Paroxetime\n",
      "\t b )  Sertraline\n",
      "\t c )  Fluoxetine\n",
      "\t d )  Prozac\n",
      "Correct Answer:  Prozac\n",
      "\n"
     ]
    }
   ],
   "source": [
    "# Step 9- The final step is to present our MCQ in a nice and readable manner.\n",
    "\n",
    "num_mcqs = int(input(\"Enter the number of questions you want : \"))  # control the number of MCQs generated\n",
    "\n",
    "print(\"**************************************        Multiple Choice Questions        *******************************\")\n",
    "print()\n",
    "import re\n",
    "import random\n",
    "iterator = 1  # To keep the count of the questions\n",
    "for each in mappedDists:\n",
    "    if iterator > num_mcqs:\n",
    "        break  # exit the loop if the desired number of MCQs has been reached\n",
    "    sent = mappedSents[each][0]\n",
    "    p = re.compile(each, re.IGNORECASE)  # Converts into regular expression for pattern matching\n",
    "    op = p.sub(\"________\", sent)  # Replaces the keyword with underscores(blanks)\n",
    "    correct_answer = each.capitalize()  # The correct answer\n",
    "    print(\"Question %s-> \"%(iterator), op)  # Prints the question along with a question number\n",
    "    options = [each.capitalize()] + mappedDists[each]  # Capitalizes the options\n",
    "    options = options[:4]  # Selects only 4 options\n",
    "    opts = ['a', 'b', 'c', 'd']\n",
    "    random.shuffle(options)  # Shuffle the options so that order is not always same\n",
    "    for i, ch in enumerate(options):\n",
    "        print(\"\\t\", opts[i], \") \", ch)  # Print the options\n",
    "    print(\"Correct Answer: \", correct_answer)  # Print the correct answer\n",
    "    print()\n",
    "    iterator += 1  # Increase the counter"
   ]
  },
  {
   "cell_type": "code",
   "execution_count": null,
   "metadata": {},
   "outputs": [],
   "source": []
  },
  {
   "cell_type": "code",
   "execution_count": null,
   "metadata": {},
   "outputs": [],
   "source": []
  },
  {
   "cell_type": "code",
   "execution_count": null,
   "metadata": {},
   "outputs": [],
   "source": []
  },
  {
   "cell_type": "code",
   "execution_count": null,
   "metadata": {},
   "outputs": [],
   "source": []
  },
  {
   "cell_type": "code",
   "execution_count": null,
   "metadata": {},
   "outputs": [],
   "source": []
  },
  {
   "cell_type": "code",
   "execution_count": null,
   "metadata": {},
   "outputs": [],
   "source": []
  },
  {
   "cell_type": "code",
   "execution_count": null,
   "metadata": {},
   "outputs": [],
   "source": []
  }
 ],
 "metadata": {
  "kernelspec": {
   "display_name": "Python 3 (ipykernel)",
   "language": "python",
   "name": "python3"
  },
  "language_info": {
   "codemirror_mode": {
    "name": "ipython",
    "version": 3
   },
   "file_extension": ".py",
   "mimetype": "text/x-python",
   "name": "python",
   "nbconvert_exporter": "python",
   "pygments_lexer": "ipython3",
   "version": "3.11.5"
  }
 },
 "nbformat": 4,
 "nbformat_minor": 4
}
