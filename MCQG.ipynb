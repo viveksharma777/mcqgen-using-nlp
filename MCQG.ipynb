{
 "cells": [
  {
   "cell_type": "markdown",
   "metadata": {},
   "source": [
    "### Import Libraries"
   ]
  },
  {
   "cell_type": "code",
   "execution_count": 14,
   "metadata": {},
   "outputs": [],
   "source": [
    "import nltk\n",
    "import string\n",
    "from nltk.corpus import stopwords\n",
    "from nltk.tokenize import sent_tokenize\n",
    "from flashtext import KeywordProcessor\n",
    "from pywsd.lesk import adapted_lesk\n",
    "from nltk.corpus import wordnet as wn\n",
    "import requests\n",
    "import random\n",
    "import re\n",
    "import PyPDF2\n",
    "from PyPDF2 import PdfReader\n",
    "\n",
    "from rake_nltk import Rake\n",
    "\n",
    "r = Rake()"
   ]
  },
  {
   "cell_type": "code",
   "execution_count": 15,
   "metadata": {},
   "outputs": [],
   "source": [
    "file = open(r\"C:\\Users\\vivek\\Downloads\\MCQ Generator Project\\Articles\\ahistoryofdepression.txt\", encoding='utf-8')\n",
    "text = file.read()"
   ]
  },
  {
   "cell_type": "code",
   "execution_count": 16,
   "metadata": {},
   "outputs": [
    {
     "data": {
      "text/plain": [
       "'When is sorrow sickness? So begins Jonathan Sadowsky’s The Empire of Depression, a history riven with professional turf wars around where to draw the line between normal sadness and something more serious — now, across much of the world, called depression. He argues against reductionism and dogma. Instead of getting stuck in old disagreements about whether depression is caused by a chemical imbalance or by social inequality, Sadowsky urges that depression can be psychological, biological and social, just as it can be a real illness even if it is cultural.\\n\\nGiven that the World Health Organization names depression as a major contributor to the global burden of disease, tracing its history is a significant task. And it is an important one, given the mental-health crisis attending the COVID-19 pandemic. It is no mean feat to characterize something that has ever-shifting and contested boundaries dependent on time and place. Sadowsky, a historian of medicine, offers three possible reasons for the current boom in diagnoses: that there really is more depression; that the amount is the same but we’re better at detecting it; or that emotional states not previously seen as illness are now being labelled as such.\\n\\nThis is no lament on over-diagnosis. Rather, Sadowsky offers a review of how psychiatry has helped people. His tale spans the ‘melancholia’ of Renaissance Europe (said to be caused by too much black bile, and treated by purging) and today’s research on imbalances in neurotransmitters, treated by drugs. It takes us through the Christian Middle Ages and the emergence of questions about whether ill people were to be blamed for their suffering; Sigmund Freud’s psychoanalytic ideas about anger turned inwards; and the 1980s cultural sensation of Prozac (fluoxetine), quantification and globalization.\\n\\nIn this positive take, the vast majority of people with depression are being treated voluntarily, and treatment helps them feel better. He makes no claims that people are being duped en masse into chemical cures. But this breezy approach doesn’t reckon with power: a lot goes on between the lines of being forced to take medication and choosing to.\\n\\nDepression has a cultural life, as, others have argued, do panic disorder, bipolar disorder and suicide (see Jackie Orr’s book Panic Diaries (2006); Emily Martin’s Bipolar Expeditions (2007); and Ian Marsh’s 2010 Suicide). A diagnosis can give validity to feelings, help people find others who share similar experiences and provide hope. But it can also stigmatize, embroil people in coercive treatment regimes and overlook context. That is why it is important to ask: what does depression ‘do’, personally and politically? Individual explanations can divert attention from wider societal factors and how they make some lives unliveable.\\n\\nIn other words, the history of depression is also about who decides what is normal and what is not. If life presents many reasons to be depressed — poverty, discrimination, precarious living situations — then should all depression be seen as an illness? This is more than theoretical, as increasing prescriptions of antidepressants in austerity Britain and opioids in rural North America testify. To be fair, this idea is key to Sadowsky’s history. He explains that choices about where to draw the line risk both medicalizing everyday suffering and disqualifying many people’s suffering from being seen as clinical depression.\\n\\nDepression, then, can’t be separated from unequal power relations — between doctor and patient, and between countries and corporations with unequal power to globalize their ways of viewing distress and its treatments. The power to say who’s rational and who isn’t, and to detain people or treat them without consent, is perhaps the starkest reminder of why treating depression is not just like administering insulin for diabetes, and of why stigma looms large despite (or because of) the understandable appeals to biochemistry. This concept is behind anti-psychiatry, the movement that protests against harmful practices, especially those founded on power differentials. Yet antipsychiatry makes only brief appearances in the book, like a pantomime villain.\\n\\nSadowsky points out that era after era grapples with false choices — between a political understanding of depression and a medical one, or between physical and psychological understandings. He is right to call for a move beyond these crude binaries. In my view, to do so, we must face the central roles of racism, sexism and ableism in delineating diagnostic boundaries over the years — not dismiss them as unfortunate. For example, psychiatry has a history of labelling some people as too uncivilized to be mentally ill, yet also diagnosing anticolonialism as mental illness.\\n\\nIn fact, many forms of resistance have been deemed symptoms of mental illness, from enslaved Africans fleeing brutality in the nineteenth-century United States to the Black Power movement of the 1960s. It is alarming, then, that apart from using “empire” as an analogy for the global dominance of Western psychiatry in interpreting distress, Sadowsky devotes little attention here to power and politics — especially given his previous work on colonialism (in the 1999 book Imperial Bedlam).\\n\\nThe book ends with the wise injunction: “listen to patients”. Yet, apart from illness memoirs, the voices (and research) of people who experience depression, those who become patients, those who refuse to become patients, and service users or psychiatric survivors are almost completely absent from the book. These people (and the collectives they have formed) contribute to production of knowledge about depression by leading research and global movements fighting for their rights. A history of depression without these voices will always be one-sided.'"
      ]
     },
     "execution_count": 16,
     "metadata": {},
     "output_type": "execute_result"
    }
   ],
   "source": [
    "text"
   ]
  },
  {
   "cell_type": "code",
   "execution_count": 17,
   "metadata": {},
   "outputs": [],
   "source": [
    "# Function to load Lottie animations\n",
    "def load_lottie_url(url: str):\n",
    "    r = requests.get(url)\n",
    "    if r.status_code != 200:\n",
    "        return None\n",
    "    return r.json()\n"
   ]
  },
  {
   "cell_type": "code",
   "execution_count": 18,
   "metadata": {},
   "outputs": [
    {
     "name": "stderr",
     "output_type": "stream",
     "text": [
      "[nltk_data] Downloading package stopwords to\n",
      "[nltk_data]     C:\\Users\\vivek\\AppData\\Roaming\\nltk_data...\n",
      "[nltk_data]   Package stopwords is already up-to-date!\n",
      "[nltk_data] Downloading package punkt to\n",
      "[nltk_data]     C:\\Users\\vivek\\AppData\\Roaming\\nltk_data...\n",
      "[nltk_data]   Package punkt is already up-to-date!\n",
      "[nltk_data] Downloading collection 'popular'\n",
      "[nltk_data]    | \n",
      "[nltk_data]    | Downloading package cmudict to\n",
      "[nltk_data]    |     C:\\Users\\vivek\\AppData\\Roaming\\nltk_data...\n",
      "[nltk_data]    |   Package cmudict is already up-to-date!\n",
      "[nltk_data]    | Downloading package gazetteers to\n",
      "[nltk_data]    |     C:\\Users\\vivek\\AppData\\Roaming\\nltk_data...\n",
      "[nltk_data]    |   Package gazetteers is already up-to-date!\n",
      "[nltk_data]    | Downloading package genesis to\n",
      "[nltk_data]    |     C:\\Users\\vivek\\AppData\\Roaming\\nltk_data...\n",
      "[nltk_data]    |   Package genesis is already up-to-date!\n",
      "[nltk_data]    | Downloading package gutenberg to\n",
      "[nltk_data]    |     C:\\Users\\vivek\\AppData\\Roaming\\nltk_data...\n",
      "[nltk_data]    |   Package gutenberg is already up-to-date!\n",
      "[nltk_data]    | Downloading package inaugural to\n",
      "[nltk_data]    |     C:\\Users\\vivek\\AppData\\Roaming\\nltk_data...\n",
      "[nltk_data]    |   Package inaugural is already up-to-date!\n",
      "[nltk_data]    | Downloading package movie_reviews to\n",
      "[nltk_data]    |     C:\\Users\\vivek\\AppData\\Roaming\\nltk_data...\n",
      "[nltk_data]    |   Package movie_reviews is already up-to-date!\n",
      "[nltk_data]    | Downloading package names to\n",
      "[nltk_data]    |     C:\\Users\\vivek\\AppData\\Roaming\\nltk_data...\n",
      "[nltk_data]    |   Package names is already up-to-date!\n",
      "[nltk_data]    | Downloading package shakespeare to\n",
      "[nltk_data]    |     C:\\Users\\vivek\\AppData\\Roaming\\nltk_data...\n",
      "[nltk_data]    |   Package shakespeare is already up-to-date!\n",
      "[nltk_data]    | Downloading package stopwords to\n",
      "[nltk_data]    |     C:\\Users\\vivek\\AppData\\Roaming\\nltk_data...\n",
      "[nltk_data]    |   Package stopwords is already up-to-date!\n",
      "[nltk_data]    | Downloading package treebank to\n",
      "[nltk_data]    |     C:\\Users\\vivek\\AppData\\Roaming\\nltk_data...\n",
      "[nltk_data]    |   Package treebank is already up-to-date!\n",
      "[nltk_data]    | Downloading package twitter_samples to\n",
      "[nltk_data]    |     C:\\Users\\vivek\\AppData\\Roaming\\nltk_data...\n",
      "[nltk_data]    |   Package twitter_samples is already up-to-date!\n",
      "[nltk_data]    | Downloading package omw to\n",
      "[nltk_data]    |     C:\\Users\\vivek\\AppData\\Roaming\\nltk_data...\n",
      "[nltk_data]    |   Package omw is already up-to-date!\n",
      "[nltk_data]    | Downloading package omw-1.4 to\n",
      "[nltk_data]    |     C:\\Users\\vivek\\AppData\\Roaming\\nltk_data...\n",
      "[nltk_data]    |   Package omw-1.4 is already up-to-date!\n",
      "[nltk_data]    | Downloading package wordnet to\n",
      "[nltk_data]    |     C:\\Users\\vivek\\AppData\\Roaming\\nltk_data...\n",
      "[nltk_data]    |   Package wordnet is already up-to-date!\n",
      "[nltk_data]    | Downloading package wordnet2021 to\n",
      "[nltk_data]    |     C:\\Users\\vivek\\AppData\\Roaming\\nltk_data...\n",
      "[nltk_data]    |   Package wordnet2021 is already up-to-date!\n",
      "[nltk_data]    | Downloading package wordnet31 to\n",
      "[nltk_data]    |     C:\\Users\\vivek\\AppData\\Roaming\\nltk_data...\n",
      "[nltk_data]    |   Package wordnet31 is already up-to-date!\n",
      "[nltk_data]    | Downloading package wordnet_ic to\n",
      "[nltk_data]    |     C:\\Users\\vivek\\AppData\\Roaming\\nltk_data...\n",
      "[nltk_data]    |   Package wordnet_ic is already up-to-date!\n",
      "[nltk_data]    | Downloading package words to\n",
      "[nltk_data]    |     C:\\Users\\vivek\\AppData\\Roaming\\nltk_data...\n",
      "[nltk_data]    |   Package words is already up-to-date!\n",
      "[nltk_data]    | Downloading package maxent_ne_chunker to\n",
      "[nltk_data]    |     C:\\Users\\vivek\\AppData\\Roaming\\nltk_data...\n",
      "[nltk_data]    |   Package maxent_ne_chunker is already up-to-date!\n",
      "[nltk_data]    | Downloading package punkt to\n",
      "[nltk_data]    |     C:\\Users\\vivek\\AppData\\Roaming\\nltk_data...\n",
      "[nltk_data]    |   Package punkt is already up-to-date!\n",
      "[nltk_data]    | Downloading package snowball_data to\n",
      "[nltk_data]    |     C:\\Users\\vivek\\AppData\\Roaming\\nltk_data...\n",
      "[nltk_data]    |   Package snowball_data is already up-to-date!\n",
      "[nltk_data]    | Downloading package averaged_perceptron_tagger to\n",
      "[nltk_data]    |     C:\\Users\\vivek\\AppData\\Roaming\\nltk_data...\n",
      "[nltk_data]    |   Package averaged_perceptron_tagger is already up-\n",
      "[nltk_data]    |       to-date!\n",
      "[nltk_data]    | \n",
      "[nltk_data]  Done downloading collection popular\n"
     ]
    },
    {
     "data": {
      "text/plain": [
       "True"
      ]
     },
     "execution_count": 18,
     "metadata": {},
     "output_type": "execute_result"
    }
   ],
   "source": [
    "# Download necessary NLTK data\n",
    "nltk.download('stopwords')\n",
    "nltk.download('punkt')\n",
    "nltk.download('popular')"
   ]
  },
  {
   "cell_type": "code",
   "execution_count": 19,
   "metadata": {},
   "outputs": [],
   "source": [
    "#Step 2- Extract the important words(keywords) from the text article that can be used to create MCQ using RAKE\n",
    "\n",
    "# Define the function to extract important words\n",
    "def getImportantWords(art):\n",
    "    r = Rake(stopwords=stopwords.words('english') + list(string.punctuation))\n",
    "    r.extract_keywords_from_text(art)\n",
    "    keyphrases = r.get_ranked_phrases_with_scores()\n",
    "    result = [keyphrase for _, keyphrase in keyphrases[:25]]  # Get the top 25 keyphrases\n",
    "    return result"
   ]
  },
  {
   "cell_type": "code",
   "execution_count": 20,
   "metadata": {},
   "outputs": [],
   "source": [
    "# Split the text into sentences\n",
    "def splitTextToSents(art):\n",
    "    s = [sent_tokenize(art)]\n",
    "    s = [y for x in s for y in x]\n",
    "    s = [sent.strip() for sent in s if len(sent) > 15]\n",
    "    return s"
   ]
  },
  {
   "cell_type": "code",
   "execution_count": 21,
   "metadata": {},
   "outputs": [],
   "source": [
    "# Map sentences to keywords\n",
    "def mapSents(impWords, sents):\n",
    "    processor = KeywordProcessor()\n",
    "    keySents = {}\n",
    "    for word in impWords:\n",
    "        keySents[word] = []\n",
    "        processor.add_keyword(word)\n",
    "    for sent in sents:\n",
    "        found = processor.extract_keywords(sent)\n",
    "        for each in found:\n",
    "            keySents[each].append(sent)\n",
    "    for key in keySents.keys():\n",
    "        temp = keySents[key]\n",
    "        temp = sorted(temp, key=len, reverse=True)\n",
    "        keySents[key] = temp\n",
    "    return keySents"
   ]
  },
  {
   "cell_type": "code",
   "execution_count": 22,
   "metadata": {},
   "outputs": [],
   "source": [
    "# Get the sense of the word\n",
    "def getWordSense(sent, word):\n",
    "    word = word.lower()\n",
    "    if len(word.split()) > 0:\n",
    "        word = word.replace(\" \", \"_\")\n",
    "    synsets = wn.synsets(word, 'n')\n",
    "    if synsets:\n",
    "        wup = max_similarity(sent, word, 'wup', pos='n')\n",
    "        adapted_lesk_output = adapted_lesk(sent, word, pos='n')\n",
    "        lowest_index = min(synsets.index(wup), synsets.index(adapted_lesk_output))\n",
    "        return synsets[lowest_index]\n",
    "    else:\n",
    "        return None"
   ]
  },
  {
   "cell_type": "code",
   "execution_count": 23,
   "metadata": {},
   "outputs": [],
   "source": [
    "#Step 6- Get distractor from WordNet. These distractors work on the basis of hypernym and hyponym explained in detail in the documentation.\n",
    "\n",
    "def getDistractors(syn, word):\n",
    "    dists = []\n",
    "    word = word.lower()\n",
    "    actword = word\n",
    "    if len(word.split()) > 0:\n",
    "        word.replace(\" \", \"_\")\n",
    "    hypernym = syn.hypernyms()\n",
    "    if len(hypernym) == 0:\n",
    "        return dists\n",
    "    for each in hypernym[0].hyponyms():\n",
    "        name = each.lemmas()[0].name()\n",
    "        if name == actword:\n",
    "            continue\n",
    "        name = name.replace(\"_\", \" \")\n",
    "        name = \" \".join(w.capitalize() for w in name.split())\n",
    "        if name is not None and name not in dists:\n",
    "            dists.append(name)\n",
    "    return dists"
   ]
  },
  {
   "cell_type": "code",
   "execution_count": 24,
   "metadata": {},
   "outputs": [],
   "source": [
    "# Get distractors from ConceptNet\n",
    "def getDistractors2(word):\n",
    "    word = word.lower()\n",
    "    actword = word\n",
    "    if len(word.split()) > 0:\n",
    "        word = word.replace(\" \", \"_\")\n",
    "    dists = []\n",
    "    url = f\"http://api.conceptnet.io/query?node=/c/en/{word}/n&rel=/r/PartOf&start=/c/en/{word}&limit=5\"\n",
    "    obj = requests.get(url).json()\n",
    "    for edge in obj['edges']:\n",
    "        link = edge['end']['term']\n",
    "        url2 = f\"http://api.conceptnet.io/query?node={link}&rel=/r/PartOf&end={link}&limit=10\"\n",
    "        obj2 = requests.get(url2).json()\n",
    "        for edge in obj2['edges']:\n",
    "            word2 = edge['start']['label']\n",
    "            if word2 not in dists and actword.lower() not in word2.lower():\n",
    "                dists.append(word2)\n",
    "    return dists\n"
   ]
  },
  {
   "cell_type": "code",
   "execution_count": 12,
   "metadata": {},
   "outputs": [],
   "source": [
    "# Step 8 (continued): Find and map the distractors to the keywords\n",
    "mappedDists = {}\n",
    "correctAnswers = {}  # Dictionary to store correct answers\n",
    "\n",
    "for each in mappedSents:\n",
    "    wordsense = getWordSense(mappedSents[each][0], each)\n",
    "    if wordsense:\n",
    "        dists = getDistractors(wordsense, each)\n",
    "        if len(dists) == 0:\n",
    "            dists = getDistractors2(each)\n",
    "        if len(dists) != 0:\n",
    "            mappedDists[each] = dists\n",
    "            correctAnswers[each] = each.capitalize()  # Store correct answer\n",
    "    else:\n",
    "        dists = getDistractors2(each)\n",
    "        if len(dists) > 0:\n",
    "            mappedDists[each] = dists\n",
    "            correctAnswers[each] = each.capitalize()"
   ]
  },
  {
   "cell_type": "code",
   "execution_count": 13,
   "metadata": {},
   "outputs": [],
   "source": [
    "import re "
   ]
  },
  {
   "cell_type": "code",
   "execution_count": 14,
   "metadata": {},
   "outputs": [
    {
     "name": "stdout",
     "output_type": "stream",
     "text": [
      "**************************************        Multiple Choice Questions        *******************************\n",
      "\n",
      "Question 1->  The power to say who’s rational and who isn’t, and to detain people or treat them without consent, is perhaps the starkest reminder of why treating ________ is not just like administering insulin for diabetes, and of why stigma looms large despite (or because of) the understandable appeals to biochemistry.\n",
      "\t a )  Aquifer\n",
      "\t b )  Beach\n",
      "\t c )  Cave\n",
      "\t d )  Depression\n",
      "Correct Answer:  Depression\n",
      "\n",
      "Question 2->  It is alarming, then, that apart from using “________” as an analogy for the global dominance of Western psychiatry in interpreting distress, Sadowsky devotes little attention here to power and politics — especially given his previous work on colonialism (in the 1999 book Imperial Bedlam).\n",
      "\t a )  Archduchy\n",
      "\t b )  Duchy\n",
      "\t c )  Barony\n",
      "\t d )  Empire\n",
      "Correct Answer:  Empire\n",
      "\n",
      "Question 3->  In fact, many forms of resistance have been deemed symptoms of mental illness, from enslaved Africans fleeing brutality in the nineteenth-century ________ to the Black Power movement of the 1960s.\n",
      "\t a )  United states\n",
      "\t b )  United States Government\n",
      "Correct Answer:  United states\n",
      "\n",
      "Question 4->  This is more than theoretical, as increasing prescriptions of antidepressants in austerity Britain and opioids in rural ________ testify.\n",
      "\t a )  South America\n",
      "\t b )  Eurasia\n",
      "\t c )  North america\n",
      "\t d )  Laurasia\n",
      "Correct Answer:  North america\n",
      "\n",
      "Question 5->  In fact, many forms of resistance have been deemed symptoms of mental illness, from enslaved ________ fleeing brutality in the nineteenth-century United States to the Black Power movement of the 1960s.\n",
      "\t a )  Abator\n",
      "\t b )  Abomination\n",
      "\t c )  Africans\n",
      "\t d )  Abjurer\n",
      "Correct Answer:  Africans\n",
      "\n",
      "Question 6->  It takes us through the Christian Middle Ages and the emergence of questions about whether ill people were to be blamed for their suffering; Sigmund Freud’s psychoanalytic ideas about anger turned inwards; and the 1980s cultural sensation of ________ (fluoxetine), quantification and globalization.\n",
      "\t a )  Paroxetime\n",
      "\t b )  Sertraline\n",
      "\t c )  Fluoxetine\n",
      "\t d )  Prozac\n",
      "Correct Answer:  Prozac\n",
      "\n"
     ]
    }
   ],
   "source": [
    "# Step 9- The final step is to present our MCQ in a nice and readable manner.\n",
    "\n",
    "num_mcqs = int(input(\"Enter the number of questions you want : \"))  # control the number of MCQs generated\n",
    "\n",
    "print(\"**************************************        Multiple Choice Questions        *******************************\")\n",
    "print()\n",
    "\n",
    "import random\n",
    "iterator = 1  # To keep the count of the questions\n",
    "for each in mappedDists:\n",
    "    if iterator > num_mcqs:\n",
    "        break  # exit the loop if the desired number of MCQs has been reached\n",
    "    sent = mappedSents[each][0]\n",
    "    p = re.compile(each, re.IGNORECASE)  # Converts into regular expression for pattern matching\n",
    "    op = p.sub(\"________\", sent)  # Replaces the keyword with underscores(blanks)\n",
    "    correct_answer = each.capitalize()  # The correct answer\n",
    "    print(\"Question %s-> \"%(iterator), op)  # Prints the question along with a question number\n",
    "    options = [each.capitalize()] + mappedDists[each]  # Capitalizes the options\n",
    "    options = options[:4]  # Selects only 4 options\n",
    "    opts = ['a', 'b', 'c', 'd']\n",
    "    random.shuffle(options)  # Shuffle the options so that order is not always same\n",
    "    for i, ch in enumerate(options):\n",
    "        print(\"\\t\", opts[i], \") \", ch)  # Print the options\n",
    "    print(\"Correct Answer: \", correct_answer)  # Print the correct answer\n",
    "    print()\n",
    "    iterator += 1  # Increase the counter"
   ]
  },
  {
   "cell_type": "code",
   "execution_count": null,
   "metadata": {},
   "outputs": [],
   "source": []
  },
  {
   "cell_type": "code",
   "execution_count": null,
   "metadata": {},
   "outputs": [],
   "source": []
  },
  {
   "cell_type": "code",
   "execution_count": null,
   "metadata": {},
   "outputs": [],
   "source": []
  },
  {
   "cell_type": "code",
   "execution_count": null,
   "metadata": {},
   "outputs": [],
   "source": []
  },
  {
   "cell_type": "code",
   "execution_count": null,
   "metadata": {},
   "outputs": [],
   "source": []
  },
  {
   "cell_type": "code",
   "execution_count": null,
   "metadata": {},
   "outputs": [],
   "source": []
  },
  {
   "cell_type": "code",
   "execution_count": null,
   "metadata": {},
   "outputs": [],
   "source": []
  }
 ],
 "metadata": {
  "kernelspec": {
   "display_name": "Python 3 (ipykernel)",
   "language": "python",
   "name": "python3"
  },
  "language_info": {
   "codemirror_mode": {
    "name": "ipython",
    "version": 3
   },
   "file_extension": ".py",
   "mimetype": "text/x-python",
   "name": "python",
   "nbconvert_exporter": "python",
   "pygments_lexer": "ipython3",
   "version": "3.11.4"
  }
 },
 "nbformat": 4,
 "nbformat_minor": 4
}
