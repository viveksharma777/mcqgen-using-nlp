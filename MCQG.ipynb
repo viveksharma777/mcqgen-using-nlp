{
 "cells": [
  {
   "cell_type": "markdown",
   "metadata": {},
   "source": [
    "### Import Libraries"
   ]
  },
  {
   "cell_type": "code",
   "execution_count": 1,
   "metadata": {},
   "outputs": [
    {
     "name": "stderr",
     "output_type": "stream",
     "text": [
      "Warming up PyWSD (takes ~10 secs)... took 9.757792949676514 secs.\n"
     ]
    }
   ],
   "source": [
    "import nltk\n",
    "import string\n",
    "from nltk.corpus import stopwords\n",
    "from nltk.tokenize import sent_tokenize\n",
    "from flashtext import KeywordProcessor\n",
    "from pywsd.lesk import adapted_lesk\n",
    "from nltk.corpus import wordnet as wn\n",
    "import requests\n",
    "import random\n",
    "import re\n",
    "import PyPDF2\n",
    "from PyPDF2 import PdfReader\n",
    "\n",
    "from rake_nltk import Rake\n",
    "\n",
    "r = Rake()"
   ]
  },
  {
   "cell_type": "code",
   "execution_count": 2,
   "metadata": {},
   "outputs": [],
   "source": [
    "# Download necessary NLTK data\n",
    "#nltk.download('stopwords')\n",
    "#nltk.download('punkt')\n",
    "#nltk.download('popular')"
   ]
  },
  {
   "cell_type": "code",
   "execution_count": 3,
   "metadata": {},
   "outputs": [],
   "source": [
    "#Step 2- Extract the important words(keywords) from the text article that can be used to create MCQ using RAKE\n",
    "\n",
    "# Define the function to extract important words\n",
    "def getImportantWords(art):\n",
    "    r = Rake(stopwords=stopwords.words('english') + list(string.punctuation))\n",
    "    r.extract_keywords_from_text(art)\n",
    "    keyphrases = r.get_ranked_phrases_with_scores()\n",
    "    result = [keyphrase for _, keyphrase in keyphrases[:25]]  # Get the top 25 keyphrases\n",
    "    return result"
   ]
  },
  {
   "cell_type": "code",
   "execution_count": 4,
   "metadata": {},
   "outputs": [],
   "source": [
    "# Split the text into sentences\n",
    "def splitTextToSents(art):\n",
    "    s = [sent_tokenize(art)]\n",
    "    s = [y for x in s for y in x]\n",
    "    s = [sent.strip() for sent in s if len(sent) > 15]\n",
    "    return s"
   ]
  },
  {
   "cell_type": "code",
   "execution_count": 5,
   "metadata": {},
   "outputs": [],
   "source": [
    "# Map sentences to keywords\n",
    "def mapSents(impWords, sents):\n",
    "    processor = KeywordProcessor()\n",
    "    keySents = {}\n",
    "    for word in impWords:\n",
    "        keySents[word] = []\n",
    "        processor.add_keyword(word)\n",
    "    for sent in sents:\n",
    "        found = processor.extract_keywords(sent)\n",
    "        for each in found:\n",
    "            keySents[each].append(sent)\n",
    "    for key in keySents.keys():\n",
    "        temp = keySents[key]\n",
    "        temp = sorted(temp, key=len, reverse=True)\n",
    "        keySents[key] = temp\n",
    "    return keySents"
   ]
  },
  {
   "cell_type": "code",
   "execution_count": 6,
   "metadata": {},
   "outputs": [],
   "source": [
    "# Get the sense of the word\n",
    "def getWordSense(sent, word):\n",
    "    word = word.lower()\n",
    "    if len(word.split()) > 0:\n",
    "        word = word.replace(\" \", \"_\")\n",
    "    synsets = wn.synsets(word, 'n')\n",
    "    if synsets:\n",
    "        wup = max_similarity(sent, word, 'wup', pos='n')\n",
    "        adapted_lesk_output = adapted_lesk(sent, word, pos='n')\n",
    "        lowest_index = min(synsets.index(wup), synsets.index(adapted_lesk_output))\n",
    "        return synsets[lowest_index]\n",
    "    else:\n",
    "        return None"
   ]
  },
  {
   "cell_type": "code",
   "execution_count": 7,
   "metadata": {},
   "outputs": [],
   "source": [
    "# Get distractor from WordNet. These distractors work on the basis of hypernym and hyponym explained in detail in the documentation.\n",
    "\n",
    "def getDistractors(syn, word):\n",
    "    dists = []\n",
    "    word = word.lower()\n",
    "    actword = word\n",
    "    if len(word.split()) > 0:\n",
    "        word.replace(\" \", \"_\")\n",
    "    hypernym = syn.hypernyms()\n",
    "    if len(hypernym) == 0:\n",
    "        return dists\n",
    "    for each in hypernym[0].hyponyms():\n",
    "        name = each.lemmas()[0].name()\n",
    "        if name == actword:\n",
    "            continue\n",
    "        name = name.replace(\"_\", \" \")\n",
    "        name = \" \".join(w.capitalize() for w in name.split())\n",
    "        if name is not None and name not in dists:\n",
    "            dists.append(name)\n",
    "    return dists"
   ]
  },
  {
   "cell_type": "code",
   "execution_count": 8,
   "metadata": {},
   "outputs": [],
   "source": [
    "# Get distractors from ConceptNet\n",
    "def getDistractors2(word):\n",
    "    word = word.lower()\n",
    "    actword = word\n",
    "    if len(word.split()) > 0:\n",
    "        word = word.replace(\" \", \"_\")\n",
    "    dists = []\n",
    "    url = f\"http://api.conceptnet.io/query?node=/c/en/{word}/n&rel=/r/PartOf&start=/c/en/{word}&limit=5\"\n",
    "    obj = requests.get(url).json()\n",
    "    for edge in obj['edges']:\n",
    "        link = edge['end']['term']\n",
    "        url2 = f\"http://api.conceptnet.io/query?node={link}&rel=/r/PartOf&end={link}&limit=10\"\n",
    "        obj2 = requests.get(url2).json()\n",
    "        for edge in obj2['edges']:\n",
    "            word2 = edge['start']['label']\n",
    "            if word2 not in dists and actword.lower() not in word2.lower():\n",
    "                dists.append(word2)\n",
    "    return dists\n"
   ]
  },
  {
   "cell_type": "markdown",
   "metadata": {},
   "source": [
    "### Load and Process Text File"
   ]
  },
  {
   "cell_type": "code",
   "execution_count": 9,
   "metadata": {},
   "outputs": [
    {
     "name": "stdout",
     "output_type": "stream",
     "text": [
      "Important Words: ['1999 book imperial bedlam ).', '2006 ); emily martin ’', 'world health organization names depression', 'stigma looms large despite', 'rural north america testify', 'professional turf wars around', 'enslaved africans fleeing brutality', 'precarious living situations —', 'offers three possible reasons', 'see jackie orr ’', 'life presents many reasons', 'using “ empire ”', 'sadowsky devotes little attention', 'yet also diagnosing anticolonialism', 'begins jonathan sadowsky ’', 'help people find others', 'unequal power relations —', 'disqualifying many people ’', 'politics — especially given', 'health crisis attending', 'depressed — poverty', 'wider societal factors', 'share similar experiences', 'fluoxetine ), quantification', 'duped en masse']\n",
      "Sentences: ['When is sorrow sickness?', 'So begins Jonathan Sadowsky’s The Empire of Depression, a history riven with professional turf wars around where to draw the line between normal sadness and something more serious — now, across much of the world, called depression.', 'He argues against reductionism and dogma.', 'Instead of getting stuck in old disagreements about whether depression is caused by a chemical imbalance or by social inequality, Sadowsky urges that depression can be psychological, biological and social, just as it can be a real illness even if it is cultural.', 'Given that the World Health Organization names depression as a major contributor to the global burden of disease, tracing its history is a significant task.']\n",
      "Mapped Sentences: {'1999 book imperial bedlam ).': [], '2006 ); emily martin ’': [], 'world health organization names depression': ['Given that the World Health Organization names depression as a major contributor to the global burden of disease, tracing its history is a significant task.'], 'stigma looms large despite': ['The power to say who’s rational and who isn’t, and to detain people or treat them without consent, is perhaps the starkest reminder of why treating depression is not just like administering insulin for diabetes, and of why stigma looms large despite (or because of) the understandable appeals to biochemistry.'], 'rural north america testify': ['This is more than theoretical, as increasing prescriptions of antidepressants in austerity Britain and opioids in rural North America testify.'], 'professional turf wars around': ['So begins Jonathan Sadowsky’s The Empire of Depression, a history riven with professional turf wars around where to draw the line between normal sadness and something more serious — now, across much of the world, called depression.'], 'enslaved africans fleeing brutality': ['In fact, many forms of resistance have been deemed symptoms of mental illness, from enslaved Africans fleeing brutality in the nineteenth-century United States to the Black Power movement of the 1960s.'], 'precarious living situations —': ['If life presents many reasons to be depressed — poverty, discrimination, precarious living situations — then should all depression be seen as an illness?'], 'offers three possible reasons': ['Sadowsky, a historian of medicine, offers three possible reasons for the current boom in diagnoses: that there really is more depression; that the amount is the same but we’re better at detecting it; or that emotional states not previously seen as illness are now being labelled as such.'], 'see jackie orr ’': [], 'life presents many reasons': ['If life presents many reasons to be depressed — poverty, discrimination, precarious living situations — then should all depression be seen as an illness?'], 'using “ empire ”': [], 'sadowsky devotes little attention': ['It is alarming, then, that apart from using “empire” as an analogy for the global dominance of Western psychiatry in interpreting distress, Sadowsky devotes little attention here to power and politics — especially given his previous work on colonialism (in the 1999 book Imperial Bedlam).'], 'yet also diagnosing anticolonialism': ['For example, psychiatry has a history of labelling some people as too uncivilized to be mentally ill, yet also diagnosing anticolonialism as mental illness.'], 'begins jonathan sadowsky ’': [], 'help people find others': ['A diagnosis can give validity to feelings, help people find others who share similar experiences and provide hope.'], 'unequal power relations —': ['Depression, then, can’t be separated from unequal power relations — between doctor and patient, and between countries and corporations with unequal power to globalize their ways of viewing distress and its treatments.'], 'disqualifying many people ’': [], 'politics — especially given': ['It is alarming, then, that apart from using “empire” as an analogy for the global dominance of Western psychiatry in interpreting distress, Sadowsky devotes little attention here to power and politics — especially given his previous work on colonialism (in the 1999 book Imperial Bedlam).'], 'health crisis attending': ['And it is an important one, given the mental-health crisis attending the COVID-19 pandemic.'], 'depressed — poverty': ['If life presents many reasons to be depressed — poverty, discrimination, precarious living situations — then should all depression be seen as an illness?'], 'wider societal factors': ['Individual explanations can divert attention from wider societal factors and how they make some lives unliveable.'], 'share similar experiences': ['A diagnosis can give validity to feelings, help people find others who share similar experiences and provide hope.'], 'fluoxetine ), quantification': [], 'duped en masse': ['He makes no claims that people are being duped en masse into chemical cures.']}\n"
     ]
    }
   ],
   "source": [
    "# Function to load and read text file\n",
    "def load_text_file(file_path):\n",
    "    with open(file_path, 'r', encoding='utf-8') as file:\n",
    "        text = file.read()\n",
    "    return text\n",
    "\n",
    "# Example usage (replace 'path_to_text_file.txt' with the actual path to your text file)\n",
    "text_file_path =   r\"C:\\Users\\vivek\\Downloads\\MCQ Generator Project\\Articles\\ahistoryofdepression.txt\" # Change this to the path of your text file\n",
    "text = load_text_file(text_file_path)\n",
    "\n",
    "# Process the text\n",
    "impWords = getImportantWords(text)\n",
    "sents = splitTextToSents(text)\n",
    "mappedSents = mapSents(impWords, sents)\n",
    "\n",
    "# Example output\n",
    "print(\"Important Words:\", impWords)\n",
    "print(\"Sentences:\", sents[:5])  # Display first 5 sentences\n",
    "print(\"Mapped Sentences:\", {k: v[:2] for k, v in mappedSents.items()})  # Display first 2 sentences for each important word\n"
   ]
  },
  {
   "cell_type": "markdown",
   "metadata": {},
   "source": [
    "### Generate MCQs"
   ]
  },
  {
   "cell_type": "code",
   "execution_count": 11,
   "metadata": {},
   "outputs": [
    {
     "name": "stdout",
     "output_type": "stream",
     "text": [
      "**Question 1**: Given that the ________ as a major contributor to the global burden of disease, tracing its history is a significant task.\n",
      "\t a) wider societal factors\n",
      "\t b) World health organization names depression\n",
      "\t c) 1999 book imperial bedlam ).\n",
      "\t d) depressed — poverty\n",
      "**Correct Answer**: World health organization names depression\n",
      "\n",
      "**Question 2**: The power to say who’s rational and who isn’t, and to detain people or treat them without consent, is perhaps the starkest reminder of why treating depression is not just like administering insulin for diabetes, and of why ________ (or because of) the understandable appeals to biochemistry.\n",
      "\t a) wider societal factors\n",
      "\t b) Stigma looms large despite\n",
      "\t c) disqualifying many people ’\n",
      "\t d) offers three possible reasons\n",
      "**Correct Answer**: Stigma looms large despite\n",
      "\n",
      "**Question 3**: This is more than theoretical, as increasing prescriptions of antidepressants in austerity Britain and opioids in ________.\n",
      "\t a) health crisis attending\n",
      "\t b) Rural north america testify\n",
      "\t c) see jackie orr ’\n",
      "\t d) share similar experiences\n",
      "**Correct Answer**: Rural north america testify\n",
      "\n",
      "**Question 4**: So begins Jonathan Sadowsky’s The Empire of Depression, a history riven with ________ where to draw the line between normal sadness and something more serious — now, across much of the world, called depression.\n",
      "\t a) Professional turf wars around\n",
      "\t b) using “ empire ”\n",
      "\t c) life presents many reasons\n",
      "\t d) unequal power relations —\n",
      "**Correct Answer**: Professional turf wars around\n",
      "\n",
      "**Question 5**: In fact, many forms of resistance have been deemed symptoms of mental illness, from ________ in the nineteenth-century United States to the Black Power movement of the 1960s.\n",
      "\t a) share similar experiences\n",
      "\t b) depressed — poverty\n",
      "\t c) begins jonathan sadowsky ’\n",
      "\t d) Enslaved africans fleeing brutality\n",
      "**Correct Answer**: Enslaved africans fleeing brutality\n",
      "\n",
      "**Question 6**: If life presents many reasons to be depressed — poverty, discrimination, ________ then should all depression be seen as an illness?\n",
      "\t a) Precarious living situations —\n",
      "\t b) see jackie orr ’\n",
      "\t c) yet also diagnosing anticolonialism\n",
      "\t d) stigma looms large despite\n",
      "**Correct Answer**: Precarious living situations —\n",
      "\n",
      "**Question 7**: Sadowsky, a historian of medicine, ________ for the current boom in diagnoses: that there really is more depression; that the amount is the same but we’re better at detecting it; or that emotional states not previously seen as illness are now being labelled as such.\n",
      "\t a) sadowsky devotes little attention\n",
      "\t b) politics — especially given\n",
      "\t c) Offers three possible reasons\n",
      "\t d) 2006 ); emily martin ’\n",
      "**Correct Answer**: Offers three possible reasons\n",
      "\n",
      "**Question 8**: If ________ to be depressed — poverty, discrimination, precarious living situations — then should all depression be seen as an illness?\n",
      "\t a) politics — especially given\n",
      "\t b) share similar experiences\n",
      "\t c) Life presents many reasons\n",
      "\t d) precarious living situations —\n",
      "**Correct Answer**: Life presents many reasons\n",
      "\n",
      "**Question 9**: It is alarming, then, that apart from using “empire” as an analogy for the global dominance of Western psychiatry in interpreting distress, ________ here to power and politics — especially given his previous work on colonialism (in the 1999 book Imperial Bedlam).\n",
      "\t a) depressed — poverty\n",
      "\t b) 2006 ); emily martin ’\n",
      "\t c) Sadowsky devotes little attention\n",
      "\t d) share similar experiences\n",
      "**Correct Answer**: Sadowsky devotes little attention\n",
      "\n",
      "**Question 10**: For example, psychiatry has a history of labelling some people as too uncivilized to be mentally ill, ________ as mental illness.\n",
      "\t a) precarious living situations —\n",
      "\t b) fluoxetine ), quantification\n",
      "\t c) Yet also diagnosing anticolonialism\n",
      "\t d) 2006 ); emily martin ’\n",
      "**Correct Answer**: Yet also diagnosing anticolonialism\n",
      "\n"
     ]
    }
   ],
   "source": [
    "# Function to generate MCQs\n",
    "def generate_mcqs(impWords, mappedSents, num_mcqs=5):\n",
    "    mappedDists = {}\n",
    "    correctAnswers = {}\n",
    "    for each in impWords:\n",
    "        if each not in mappedSents or not mappedSents[each]:\n",
    "            continue\n",
    "        distractors = random.sample([k for k in impWords if k != each], 3)\n",
    "        mappedDists[each] = distractors\n",
    "\n",
    "    mcqs = []\n",
    "    iterator = 1\n",
    "    for each in mappedDists:\n",
    "        if iterator > num_mcqs:\n",
    "            break\n",
    "        if each not in mappedSents or not mappedSents[each]:\n",
    "            continue\n",
    "        sent = mappedSents[each][0]\n",
    "        p = re.compile(each, re.IGNORECASE)\n",
    "        op = p.sub(\"________\", sent)\n",
    "        correct_answer = each.capitalize()\n",
    "        options = [each.capitalize()] + mappedDists[each]\n",
    "        options = options[:4]\n",
    "        opts = ['a', 'b', 'c', 'd']\n",
    "        random.shuffle(options)\n",
    "        question = {\n",
    "            \"question\": f\"**Question {iterator}**: {op}\",\n",
    "            \"options\": {opts[i]: ch for i, ch in enumerate(options)},\n",
    "            \"correct_answer\": correct_answer\n",
    "        }\n",
    "        mcqs.append(question)\n",
    "        iterator += 1\n",
    "    return mcqs\n",
    "\n",
    "# Example usage\n",
    "num_mcqs = 10\n",
    "mcqs = generate_mcqs(impWords, mappedSents, num_mcqs)\n",
    "\n",
    "# Display MCQs\n",
    "for mcq in mcqs:\n",
    "    print(mcq[\"question\"])\n",
    "    for opt, val in mcq[\"options\"].items():\n",
    "        print(f\"\\t {opt}) {val}\")\n",
    "    print(f\"**Correct Answer**: {mcq['correct_answer']}\\n\")\n"
   ]
  },
  {
   "cell_type": "code",
   "execution_count": null,
   "metadata": {},
   "outputs": [],
   "source": []
  },
  {
   "cell_type": "code",
   "execution_count": null,
   "metadata": {},
   "outputs": [],
   "source": []
  },
  {
   "cell_type": "code",
   "execution_count": null,
   "metadata": {},
   "outputs": [],
   "source": []
  },
  {
   "cell_type": "code",
   "execution_count": null,
   "metadata": {},
   "outputs": [],
   "source": []
  },
  {
   "cell_type": "code",
   "execution_count": null,
   "metadata": {},
   "outputs": [],
   "source": []
  },
  {
   "cell_type": "code",
   "execution_count": null,
   "metadata": {},
   "outputs": [],
   "source": []
  }
 ],
 "metadata": {
  "kernelspec": {
   "display_name": "Python 3 (ipykernel)",
   "language": "python",
   "name": "python3"
  },
  "language_info": {
   "codemirror_mode": {
    "name": "ipython",
    "version": 3
   },
   "file_extension": ".py",
   "mimetype": "text/x-python",
   "name": "python",
   "nbconvert_exporter": "python",
   "pygments_lexer": "ipython3",
   "version": "3.11.4"
  }
 },
 "nbformat": 4,
 "nbformat_minor": 4
}
